{
 "cells": [
  {
   "cell_type": "code",
   "execution_count": null,
   "id": "215e3131-6f7d-4a67-b4d6-126341a6b11f",
   "metadata": {},
   "outputs": [],
   "source": [
    "!streamlit run page1.py"
   ]
  },
  {
   "cell_type": "code",
   "execution_count": null,
   "id": "f3893da1-6353-480a-96ef-526efecde3c8",
   "metadata": {},
   "outputs": [],
   "source": []
  },
  {
   "cell_type": "code",
   "execution_count": null,
   "id": "574ecb66-034e-4030-9503-02b2c3188b49",
   "metadata": {},
   "outputs": [],
   "source": []
  }
 ],
 "metadata": {
  "kernelspec": {
   "display_name": "Python 3 (ipykernel)",
   "language": "python",
   "name": "python3"
  },
  "language_info": {
   "codemirror_mode": {
    "name": "ipython",
    "version": 3
   },
   "file_extension": ".py",
   "mimetype": "text/x-python",
   "name": "python",
   "nbconvert_exporter": "python",
   "pygments_lexer": "ipython3",
   "version": "3.12.7"
  }
 },
 "nbformat": 4,
 "nbformat_minor": 5
}
